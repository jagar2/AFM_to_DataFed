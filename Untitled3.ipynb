{
 "cells": [
  {
   "cell_type": "code",
   "execution_count": 1,
   "id": "d51afad8-5eda-48cb-8bca-7cad82dc2cb4",
   "metadata": {},
   "outputs": [],
   "source": [
    "import subprocess\n",
    "\n",
    "def send_command(process, command):\n",
    "    process.stdin.write(command + '\\n')  # Use '\\n' instead of '\\r\\n'\n",
    "    process.stdin.flush()\n",
    "    stdout, stderr = process.communicate()  # Get combined stdout and stderr\n",
    "    return stdout.strip()  # Process the combined output"
   ]
  },
  {
   "cell_type": "code",
   "execution_count": 2,
   "id": "5b840eac-f236-49d2-a090-51cb3e7d0a70",
   "metadata": {},
   "outputs": [],
   "source": [
    "# Start a subprocess with cmd.exe in interactive mode\n",
    "process = subprocess.Popen(['cmd.exe'], stdin=subprocess.PIPE, stdout=subprocess.PIPE, stderr=subprocess.PIPE, text=True, bufsize=1)"
   ]
  },
  {
   "cell_type": "code",
   "execution_count": null,
   "id": "0e01c727-fda5-443d-930a-c1a5360e6c95",
   "metadata": {},
   "outputs": [],
   "source": [
    "# Read initial output until the command prompt\n",
    "while True:\n",
    "    prompt = process.stdout.readline().strip()\n",
    "    if prompt.endswith('>'):  # Assuming '>' is the prompt character\n",
    "        break\n"
   ]
  },
  {
   "cell_type": "code",
   "execution_count": null,
   "id": "ecd9a15e-fc53-435d-9665-043bbe920583",
   "metadata": {},
   "outputs": [],
   "source": [
    "# Send a command and get response\n",
    "response = send_command(process, 'echo Hello, World!')\n",
    "print(f\"Received from subprocess: {response}\")\n",
    "\n"
   ]
  },
  {
   "cell_type": "code",
   "execution_count": null,
   "id": "1e7fb029-cfc5-4862-8f45-4c010b3f3d59",
   "metadata": {},
   "outputs": [],
   "source": [
    "# Close the subprocess\n",
    "process.stdin.close()\n",
    "process.terminate()\n",
    "process.wait(timeout=0.2)\n"
   ]
  },
  {
   "cell_type": "code",
   "execution_count": null,
   "id": "be3429ba-7a06-4620-8201-1676476f374f",
   "metadata": {},
   "outputs": [],
   "source": []
  }
 ],
 "metadata": {
  "kernelspec": {
   "display_name": "Python 3 (ipykernel)",
   "language": "python",
   "name": "python3"
  },
  "language_info": {
   "codemirror_mode": {
    "name": "ipython",
    "version": 3
   },
   "file_extension": ".py",
   "mimetype": "text/x-python",
   "name": "python",
   "nbconvert_exporter": "python",
   "pygments_lexer": "ipython3",
   "version": "3.10.9"
  }
 },
 "nbformat": 4,
 "nbformat_minor": 5
}
