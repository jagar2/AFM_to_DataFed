{
 "cells": [
  {
   "cell_type": "code",
   "execution_count": 14,
   "id": "c4212124-35a6-45a9-9e86-cc95c9f55b43",
   "metadata": {},
   "outputs": [],
   "source": [
    "import subprocess"
   ]
  },
  {
   "cell_type": "code",
   "execution_count": 15,
   "id": "12ac016d-ad51-47d4-9638-b0fb2930362f",
   "metadata": {},
   "outputs": [],
   "source": [
    "# Start a subprocess with cmd.exe\n",
    "process = subprocess.Popen(['cmd.exe'], stdin=subprocess.PIPE, stdout=subprocess.PIPE, stderr=subprocess.PIPE, text=True)"
   ]
  },
  {
   "cell_type": "code",
   "execution_count": 16,
   "id": "46b06fe2-0d0d-4cb8-bedc-ed99ceaa7744",
   "metadata": {},
   "outputs": [
    {
     "name": "stdout",
     "output_type": "stream",
     "text": [
      "Received from subprocess: Microsoft Windows [Version 10.0.19045.3086]\n",
      "(c) Microsoft Corporation. All rights reserved.\n",
      "\n",
      "(base) C:\\Users\\Asylum User\\Documents\\AFM_to_DataFed>echo Hello, World!\n",
      "\n",
      "Hello, World!\n",
      "\n",
      "(base) C:\\Users\\Asylum User\\Documents\\AFM_to_DataFed>\n"
     ]
    }
   ],
   "source": [
    "# Send a command to the subprocess\n",
    "stdout, stderr = process.communicate('echo Hello, World!\\r\\n')\n",
    "print(f\"Received from subprocess: {stdout.strip()}\")  # strip() to remove any leading/trailing whitespace or newlines\n"
   ]
  },
  {
   "cell_type": "code",
   "execution_count": 17,
   "id": "1fe2a204-ff6c-44b6-8e2c-5fb3eeede1b8",
   "metadata": {},
   "outputs": [
    {
     "ename": "ValueError",
     "evalue": "Cannot send input after starting communication",
     "output_type": "error",
     "traceback": [
      "\u001b[1;31m---------------------------------------------------------------------------\u001b[0m",
      "\u001b[1;31mValueError\u001b[0m                                Traceback (most recent call last)",
      "Cell \u001b[1;32mIn[17], line 3\u001b[0m\n\u001b[0;32m      1\u001b[0m \u001b[38;5;66;03m# Based on the response, decide to send another command\u001b[39;00m\n\u001b[0;32m      2\u001b[0m \u001b[38;5;28;01mif\u001b[39;00m \u001b[38;5;124m\"\u001b[39m\u001b[38;5;124mHello, World!\u001b[39m\u001b[38;5;124m\"\u001b[39m \u001b[38;5;129;01min\u001b[39;00m stdout:\n\u001b[1;32m----> 3\u001b[0m     stdout, stderr \u001b[38;5;241m=\u001b[39m \u001b[43mprocess\u001b[49m\u001b[38;5;241;43m.\u001b[39;49m\u001b[43mcommunicate\u001b[49m\u001b[43m(\u001b[49m\u001b[38;5;124;43m'\u001b[39;49m\u001b[38;5;124;43mecho The subprocess responded correctly.\u001b[39;49m\u001b[38;5;130;43;01m\\r\u001b[39;49;00m\u001b[38;5;130;43;01m\\n\u001b[39;49;00m\u001b[38;5;124;43m'\u001b[39;49m\u001b[43m)\u001b[49m\n\u001b[0;32m      4\u001b[0m     \u001b[38;5;28mprint\u001b[39m(\u001b[38;5;124mf\u001b[39m\u001b[38;5;124m\"\u001b[39m\u001b[38;5;124mReceived from subprocess: \u001b[39m\u001b[38;5;132;01m{\u001b[39;00mstdout\u001b[38;5;241m.\u001b[39mstrip()\u001b[38;5;132;01m}\u001b[39;00m\u001b[38;5;124m\"\u001b[39m)\n\u001b[0;32m      5\u001b[0m \u001b[38;5;28;01melse\u001b[39;00m:\n",
      "File \u001b[1;32m~\\anaconda3\\lib\\subprocess.py:1129\u001b[0m, in \u001b[0;36mPopen.communicate\u001b[1;34m(self, input, timeout)\u001b[0m\n\u001b[0;32m   1111\u001b[0m \u001b[38;5;124;03m\"\"\"Interact with process: Send data to stdin and close it.\u001b[39;00m\n\u001b[0;32m   1112\u001b[0m \u001b[38;5;124;03mRead data from stdout and stderr, until end-of-file is\u001b[39;00m\n\u001b[0;32m   1113\u001b[0m \u001b[38;5;124;03mreached.  Wait for process to terminate.\u001b[39;00m\n\u001b[1;32m   (...)\u001b[0m\n\u001b[0;32m   1125\u001b[0m \u001b[38;5;124;03muniversal_newlines.\u001b[39;00m\n\u001b[0;32m   1126\u001b[0m \u001b[38;5;124;03m\"\"\"\u001b[39;00m\n\u001b[0;32m   1128\u001b[0m \u001b[38;5;28;01mif\u001b[39;00m \u001b[38;5;28mself\u001b[39m\u001b[38;5;241m.\u001b[39m_communication_started \u001b[38;5;129;01mand\u001b[39;00m \u001b[38;5;28minput\u001b[39m:\n\u001b[1;32m-> 1129\u001b[0m     \u001b[38;5;28;01mraise\u001b[39;00m \u001b[38;5;167;01mValueError\u001b[39;00m(\u001b[38;5;124m\"\u001b[39m\u001b[38;5;124mCannot send input after starting communication\u001b[39m\u001b[38;5;124m\"\u001b[39m)\n\u001b[0;32m   1131\u001b[0m \u001b[38;5;66;03m# Optimization: If we are not worried about timeouts, we haven't\u001b[39;00m\n\u001b[0;32m   1132\u001b[0m \u001b[38;5;66;03m# started communicating, and we have one or zero pipes, using select()\u001b[39;00m\n\u001b[0;32m   1133\u001b[0m \u001b[38;5;66;03m# or threads is unnecessary.\u001b[39;00m\n\u001b[0;32m   1134\u001b[0m \u001b[38;5;28;01mif\u001b[39;00m (timeout \u001b[38;5;129;01mis\u001b[39;00m \u001b[38;5;28;01mNone\u001b[39;00m \u001b[38;5;129;01mand\u001b[39;00m \u001b[38;5;129;01mnot\u001b[39;00m \u001b[38;5;28mself\u001b[39m\u001b[38;5;241m.\u001b[39m_communication_started \u001b[38;5;129;01mand\u001b[39;00m\n\u001b[0;32m   1135\u001b[0m     [\u001b[38;5;28mself\u001b[39m\u001b[38;5;241m.\u001b[39mstdin, \u001b[38;5;28mself\u001b[39m\u001b[38;5;241m.\u001b[39mstdout, \u001b[38;5;28mself\u001b[39m\u001b[38;5;241m.\u001b[39mstderr]\u001b[38;5;241m.\u001b[39mcount(\u001b[38;5;28;01mNone\u001b[39;00m) \u001b[38;5;241m>\u001b[39m\u001b[38;5;241m=\u001b[39m \u001b[38;5;241m2\u001b[39m):\n",
      "\u001b[1;31mValueError\u001b[0m: Cannot send input after starting communication"
     ]
    }
   ],
   "source": [
    "# Based on the response, decide to send another command\n",
    "if \"Hello, World!\" in stdout:\n",
    "    stdout, stderr = process.communicate('echo The subprocess responded correctly.\\r\\n')\n",
    "    print(f\"Received from subprocess: {stdout.strip()}\")\n",
    "else:\n",
    "    print(\"Unexpected response from subprocess.\")"
   ]
  },
  {
   "cell_type": "code",
   "execution_count": null,
   "id": "edda90bc-1b25-4c61-b986-ea67765f238e",
   "metadata": {},
   "outputs": [],
   "source": []
  },
  {
   "cell_type": "code",
   "execution_count": null,
   "id": "9321c1b5-c803-43e7-9051-1b648cfd3d19",
   "metadata": {},
   "outputs": [],
   "source": []
  }
 ],
 "metadata": {
  "kernelspec": {
   "display_name": "Python 3 (ipykernel)",
   "language": "python",
   "name": "python3"
  },
  "language_info": {
   "codemirror_mode": {
    "name": "ipython",
    "version": 3
   },
   "file_extension": ".py",
   "mimetype": "text/x-python",
   "name": "python",
   "nbconvert_exporter": "python",
   "pygments_lexer": "ipython3",
   "version": "3.10.9"
  }
 },
 "nbformat": 4,
 "nbformat_minor": 5
}
