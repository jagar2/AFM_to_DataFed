{
 "cells": [
  {
   "cell_type": "code",
   "execution_count": null,
   "metadata": {},
   "outputs": [],
   "source": []
  }
 ],
 "metadata": {
  "kernelspec": {
   "display_name": "Python 3.9.13 ('afm_datafed')",
   "language": "python",
   "name": "python3"
  },
  "language_info": {
   "name": "python",
   "version": "3.9.13"
  },
  "orig_nbformat": 4,
  "vscode": {
   "interpreter": {
    "hash": "58050d52a8f3550c4deb6a86e5fe709052070d44e4ab8a9d01b6e838a47586c2"
   }
  }
 },
 "nbformat": 4,
 "nbformat_minor": 2
}
