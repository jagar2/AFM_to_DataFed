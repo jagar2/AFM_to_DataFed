{
 "cells": [
  {
   "cell_type": "code",
   "execution_count": 22,
   "id": "0987dfbe-167f-467a-ab97-b5dda4329268",
   "metadata": {
    "tags": []
   },
   "outputs": [],
   "source": [
    "import datafed.CommandLib\n",
    "import getpass\n",
    "\n",
    "# Initialize the API object\n",
    "api = datafed.CommandLib.API()\n",
    "\n",
    "def DataFed_Log_In():\n",
    "\n",
    "    # Prompt for user ID and password\n",
    "    uid = input(\"User ID: \")\n",
    "    password = getpass.getpass(prompt=\"Password: \")\n",
    "\n",
    "    try:\n",
    "        # Attempt to log in using provided credentials\n",
    "        api.loginByPassword(uid, password)\n",
    "        success = f\"Successfully logged in to Data as {api.getAuthUser()}\"\n",
    "    except:\n",
    "        success = \"Could not log into DataFed. Check your internet connection, username, and password\"\n",
    "\n",
    "    return success\n"
   ]
  },
  {
   "cell_type": "code",
   "execution_count": 23,
   "id": "19dada65-6f45-4255-92c6-007c4c5bd18d",
   "metadata": {
    "tags": []
   },
   "outputs": [
    {
     "name": "stdin",
     "output_type": "stream",
     "text": [
      "User ID:  ysp28\n",
      "Password:  ········\n"
     ]
    },
    {
     "name": "stdout",
     "output_type": "stream",
     "text": [
      "Successfully logged in to Data as u/ysp28\n"
     ]
    }
   ],
   "source": [
    "# Call the login function and print the result\n",
    "login_result = DataFed_Log_In()\n",
    "print(login_result)\n"
   ]
  },
  {
   "cell_type": "code",
   "execution_count": 17,
   "id": "d1107d85-1ca7-4f0b-b2f7-c431fd5558ba",
   "metadata": {},
   "outputs": [],
   "source": []
  },
  {
   "cell_type": "code",
   "execution_count": 5,
   "id": "78ee97c6-8ecd-4090-8369-e94ef43fd561",
   "metadata": {},
   "outputs": [],
   "source": []
  },
  {
   "cell_type": "code",
   "execution_count": 28,
   "id": "06ca49fc-6756-4ae1-acc9-db5e9f8920d7",
   "metadata": {},
   "outputs": [],
   "source": [
    "from send_ibw_to_datafed import _send_ibw_to_datafed\n",
    "import os"
   ]
  },
  {
   "cell_type": "code",
   "execution_count": 30,
   "id": "9a223df1-cc74-4da9-8fa2-968b7ae8902f",
   "metadata": {},
   "outputs": [
    {
     "name": "stdout",
     "output_type": "stream",
     "text": [
      "C:\\Users\\Asylum User\\Documents\\Asylum Research Data\\230802\\Image0006.ibw\n",
      "c/u_ysp28_root\n",
      "There was an error creating the DataRecord\n"
     ]
    },
    {
     "ename": "UnboundLocalError",
     "evalue": "local variable 'dc_resp' referenced before assignment",
     "output_type": "error",
     "traceback": [
      "\u001b[1;31m---------------------------------------------------------------------------\u001b[0m",
      "\u001b[1;31mUnboundLocalError\u001b[0m                         Traceback (most recent call last)",
      "Cell \u001b[1;32mIn[30], line 13\u001b[0m\n\u001b[0;32m     11\u001b[0m object_name \u001b[38;5;241m=\u001b[39m \u001b[38;5;124m\"\u001b[39m\u001b[38;5;124mImage0006.ibw\u001b[39m\u001b[38;5;124m\"\u001b[39m\n\u001b[0;32m     12\u001b[0m collection_id \u001b[38;5;241m=\u001b[39m \u001b[38;5;124m\"\u001b[39m\u001b[38;5;124mc/u_ysp28_root\u001b[39m\u001b[38;5;124m\"\u001b[39m\n\u001b[1;32m---> 13\u001b[0m \u001b[43mfind_and_send_file\u001b[49m\u001b[43m(\u001b[49m\u001b[43mobject_name\u001b[49m\u001b[43m,\u001b[49m\u001b[43m \u001b[49m\u001b[43mcollection_id\u001b[49m\u001b[43m)\u001b[49m\n",
      "Cell \u001b[1;32mIn[30], line 6\u001b[0m, in \u001b[0;36mfind_and_send_file\u001b[1;34m(object_name, collection_id)\u001b[0m\n\u001b[0;32m      3\u001b[0m file_name \u001b[38;5;241m=\u001b[39m os\u001b[38;5;241m.\u001b[39mpath\u001b[38;5;241m.\u001b[39mjoin(directory, object_name)\n\u001b[0;32m      5\u001b[0m \u001b[38;5;28;01mif\u001b[39;00m os\u001b[38;5;241m.\u001b[39mpath\u001b[38;5;241m.\u001b[39mexists(file_name):\n\u001b[1;32m----> 6\u001b[0m     \u001b[43m_send_ibw_to_datafed\u001b[49m\u001b[43m(\u001b[49m\u001b[43mfile_name\u001b[49m\u001b[43m,\u001b[49m\u001b[43m \u001b[49m\u001b[43mcollection_id\u001b[49m\u001b[43m)\u001b[49m\n\u001b[0;32m      7\u001b[0m \u001b[38;5;28;01melse\u001b[39;00m:\n\u001b[0;32m      8\u001b[0m     \u001b[38;5;28mprint\u001b[39m(\u001b[38;5;124m\"\u001b[39m\u001b[38;5;124mFile not found:\u001b[39m\u001b[38;5;124m\"\u001b[39m, file_name)\n",
      "File \u001b[1;32m~\\Documents\\AFM_to_DataFed\\send_ibw_to_datafed.py:66\u001b[0m, in \u001b[0;36m_send_ibw_to_datafed\u001b[1;34m(file_name, collection_id)\u001b[0m\n\u001b[0;32m     62\u001b[0m     \u001b[38;5;28mprint\u001b[39m(\u001b[38;5;124m'\u001b[39m\u001b[38;5;124mThere was an error creating the DataRecord\u001b[39m\u001b[38;5;124m'\u001b[39m)\n\u001b[0;32m     64\u001b[0m \u001b[38;5;28;01mtry\u001b[39;00m: \n\u001b[0;32m     65\u001b[0m     \u001b[38;5;66;03m# extracts the record ID\u001b[39;00m\n\u001b[1;32m---> 66\u001b[0m     rec_id \u001b[38;5;241m=\u001b[39m \u001b[43mdc_resp\u001b[49m[\u001b[38;5;241m0\u001b[39m]\u001b[38;5;241m.\u001b[39mdata[\u001b[38;5;241m0\u001b[39m]\u001b[38;5;241m.\u001b[39mid\n\u001b[0;32m     67\u001b[0m \u001b[38;5;28;01mexcept\u001b[39;00m \u001b[38;5;167;01mValueError\u001b[39;00m:\n\u001b[0;32m     68\u001b[0m     \u001b[38;5;28mprint\u001b[39m(\u001b[38;5;124m'\u001b[39m\u001b[38;5;124mCould not find record ID\u001b[39m\u001b[38;5;124m'\u001b[39m)\n",
      "\u001b[1;31mUnboundLocalError\u001b[0m: local variable 'dc_resp' referenced before assignment"
     ]
    }
   ],
   "source": [
    "\n",
    "def find_and_send_file(object_name, collection_id):\n",
    "    directory = r\"C:\\Users\\Asylum User\\Documents\\Asylum Research Data\\230802\"\n",
    "    file_name = os.path.join(directory, object_name)\n",
    "\n",
    "    if os.path.exists(file_name):\n",
    "        _send_ibw_to_datafed(file_name, collection_id)\n",
    "    else:\n",
    "        print(\"File not found:\", file_name)\n",
    "\n",
    "# Call the function with the desired file name and DataFed path\n",
    "object_name = \"Image0006.ibw\"\n",
    "collection_id = \"c/u_ysp28_root\"\n",
    "find_and_send_file(object_name, collection_id)\n"
   ]
  },
  {
   "cell_type": "code",
   "execution_count": 19,
   "id": "e97985d0-c33d-4df6-8868-8a4243bafea6",
   "metadata": {},
   "outputs": [
    {
     "name": "stdout",
     "output_type": "stream",
     "text": [
      "Path does not exist or is not a directory\n"
     ]
    }
   ],
   "source": []
  },
  {
   "cell_type": "code",
   "execution_count": null,
   "id": "552e73c7-eff6-4deb-8ca4-2a515a75c839",
   "metadata": {},
   "outputs": [],
   "source": []
  },
  {
   "cell_type": "code",
   "execution_count": null,
   "id": "f06e160f-1bb8-45e9-b31e-a8682ccecacb",
   "metadata": {},
   "outputs": [],
   "source": []
  }
 ],
 "metadata": {
  "kernelspec": {
   "display_name": "Python 3 (ipykernel)",
   "language": "python",
   "name": "python3"
  },
  "language_info": {
   "codemirror_mode": {
    "name": "ipython",
    "version": 3
   },
   "file_extension": ".py",
   "mimetype": "text/x-python",
   "name": "python",
   "nbconvert_exporter": "python",
   "pygments_lexer": "ipython3",
   "version": "3.10.9"
  }
 },
 "nbformat": 4,
 "nbformat_minor": 5
}
