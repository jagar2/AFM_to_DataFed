{
 "cells": [
  {
   "cell_type": "code",
   "execution_count": 2,
   "id": "acb088fd-b432-4110-b464-25799186c5f0",
   "metadata": {},
   "outputs": [
    {
     "name": "stdout",
     "output_type": "stream",
     "text": [
      "Stdout:\n",
      "User ID: \n",
      "\n",
      "Stderr:\n",
      ". : File C:\\Users\\Asylum User\\Documents\\WindowsPowerShell\\profile.ps1 cannot be loaded because running scripts is \n",
      "disabled on this system. For more information, see about_Execution_Policies at \n",
      "https:/go.microsoft.com/fwlink/?LinkID=135170.\n",
      "At line:1 char:3\n",
      "+ . 'C:\\Users\\Asylum User\\Documents\\WindowsPowerShell\\profile.ps1'\n",
      "+   ~~~~~~~~~~~~~~~~~~~~~~~~~~~~~~~~~~~~~~~~~~~~~~~~~~~~~~~~~~~~~~\n",
      "    + CategoryInfo          : SecurityError: (:) [], PSSecurityException\n",
      "    + FullyQualifiedErrorId : UnauthorizedAccess\n",
      "\n"
     ]
    }
   ],
   "source": [
    "import subprocess\n",
    "\n",
    "def run_powershell_command(command):\n",
    "    result = subprocess.run(['powershell.exe', '-Command', command], stdout=subprocess.PIPE, stderr=subprocess.PIPE, text=True)\n",
    "    return result.stdout, result.stderr\n",
    "\n",
    "# Send the initial command\n",
    "initial_command = 'datafed --manual-auth'\n",
    "stdout, stderr = run_powershell_command(initial_command)\n",
    "\n",
    "print(\"Stdout:\")\n",
    "print(stdout)\n",
    "\n",
    "print(\"Stderr:\")\n",
    "print(stderr)\n",
    "\n"
   ]
  },
  {
   "cell_type": "code",
   "execution_count": 3,
   "id": "8dd15440-4d2d-4757-8c43-154037db0c3e",
   "metadata": {},
   "outputs": [
    {
     "name": "stdin",
     "output_type": "stream",
     "text": [
      "Enter your User ID:  ysp28\n"
     ]
    },
    {
     "name": "stdout",
     "output_type": "stream",
     "text": [
      "Stdout:\n",
      "User ID: \n",
      "\n",
      "Stderr:\n",
      ". : File C:\\Users\\Asylum User\\Documents\\WindowsPowerShell\\profile.ps1 cannot be loaded because running scripts is \n",
      "disabled on this system. For more information, see about_Execution_Policies at \n",
      "https:/go.microsoft.com/fwlink/?LinkID=135170.\n",
      "At line:1 char:3\n",
      "+ . 'C:\\Users\\Asylum User\\Documents\\WindowsPowerShell\\profile.ps1'\n",
      "+   ~~~~~~~~~~~~~~~~~~~~~~~~~~~~~~~~~~~~~~~~~~~~~~~~~~~~~~~~~~~~~~\n",
      "    + CategoryInfo          : SecurityError: (:) [], PSSecurityException\n",
      "    + FullyQualifiedErrorId : UnauthorizedAccess\n",
      "\n"
     ]
    }
   ],
   "source": [
    "# Check if 'User ID:' is in stdout\n",
    "if 'User ID:' in stdout:\n",
    "    user_id = input(\"Enter your User ID: \")\n",
    "    stdin_data = f\"{user_id}\\n\"\n",
    "\n",
    "    # Send the user ID as input\n",
    "    stdout, stderr = run_powershell_command(initial_command)\n",
    "    print(\"Stdout:\")\n",
    "    print(stdout)\n",
    "\n",
    "    print(\"Stderr:\")\n",
    "    print(stderr)\n",
    "\n"
   ]
  },
  {
   "cell_type": "code",
   "execution_count": null,
   "id": "1b5b5e74-5e11-4a4f-9e13-067059c318b7",
   "metadata": {},
   "outputs": [],
   "source": [
    "# Check if 'Password:' is in stdout\n",
    "if 'Password:' in stdout:\n",
    "    password = input(\"Enter your password: \")\n",
    "    stdin_data += f\"{password}\\n\"\n",
    "\n",
    "    # Send the password as input\n",
    "    stdout, stderr = run_powershell_command(stdin_data)\n",
    "    print(\"Stdout:\")\n",
    "    print(stdout)\n",
    "\n",
    "    print(\"Stderr:\")\n",
    "    print(stderr)\n"
   ]
  }
 ],
 "metadata": {
  "kernelspec": {
   "display_name": "Python 3 (ipykernel)",
   "language": "python",
   "name": "python3"
  },
  "language_info": {
   "codemirror_mode": {
    "name": "ipython",
    "version": 3
   },
   "file_extension": ".py",
   "mimetype": "text/x-python",
   "name": "python",
   "nbconvert_exporter": "python",
   "pygments_lexer": "ipython3",
   "version": "3.10.9"
  }
 },
 "nbformat": 4,
 "nbformat_minor": 5
}
